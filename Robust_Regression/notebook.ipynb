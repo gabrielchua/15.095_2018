{
  "cells": [
    {
      "cell_type": "markdown",
      "source": [
        "# Robust Ridge and LASSO Regressions"
      ],
      "metadata": {}
    },
    {
      "cell_type": "code",
      "source": [
        "# Import relevant libraries\n",
        "using JuMP, Gurobi, CSV"
      ],
      "outputs": [],
      "execution_count": 1,
      "metadata": {}
    },
    {
      "cell_type": "code",
      "source": [
        "# L1-norm robust linear regression\n",
        "reg_l1 = function(X, Y, ρ) # ρ is the penalty parameter\n",
        "        P = size(X,2)\n",
        "        model = Model(solver=GurobiSolver(OutputFlag=0))\n",
        "            @variable(model, t)\n",
        "            @variable(model, a[1:P])\n",
        "            @variable(model, β[1:P])\n",
        "            @objective(model, Min, t + ρ * (sum(a[i] for i=1:P)))\n",
        "            @constraint(model, norm(Y - X * β, 2) <= t)\n",
        "            @constraint(model, β[i = 1:P] .<= a[i = 1:P])\n",
        "            @constraint(model, -β[i = 1:P] .<= a[i = 1:P])\n",
        "        solve(model);  \n",
        "        return getvalue(β) \n",
        "end;"
      ],
      "outputs": [],
      "execution_count": 2,
      "metadata": {}
    },
    {
      "cell_type": "code",
      "source": [
        "# L2-norm robust linear regression\n",
        "reg_l2 = function(X, Y, ρ) # where ρ is the penalty parameter\n",
        "        P = size(X,2)\n",
        "        model = Model(solver=GurobiSolver(OutputFlag=0))\n",
        "            @variable(model, t)\n",
        "            @variable(model, s)\n",
        "            # @variable(model, a[1:P])\n",
        "            @variable(model, β[1:P])\n",
        "            @objective(model, Min, t + s*ρ)\n",
        "            @constraint(model, norm(β) <= s)\n",
        "            @constraint(model, norm(Y - X * β) <= t)\n",
        "            # @constraint(model, β[i = 1:P] .<= a[i = 1:P])\n",
        "            # @constraint(model, -β[i = 1:P] .<= a[i = 1:P])\n",
        "        solve(model)\n",
        "        return getvalue(β)     \n",
        "end;"
      ],
      "outputs": [],
      "execution_count": 3,
      "metadata": {}
    },
    {
      "cell_type": "markdown",
      "source": [
        "## Housing Dataset"
      ],
      "metadata": {}
    },
    {
      "cell_type": "code",
      "source": [
        "# Importing the Data\n",
        "df = CSV.read(\"housing.csv\", header=false)\n",
        "df = convert(Array,df)\n",
        "print(\"The dataset has dimension \", size(df))"
      ],
      "outputs": [
        {
          "output_type": "stream",
          "name": "stdout",
          "text": [
            "The dataset has dimension (506, 14)"
          ]
        }
      ],
      "execution_count": 4,
      "metadata": {}
    },
    {
      "cell_type": "code",
      "source": [
        "# Split into training, validation and test sets (50%/25%/25%)\n",
        "n = size(df)[1]\n",
        "val_start = round(Int, 0.5 * n) \n",
        "test_start = round(Int, 0.75 * n) \n",
        "Y = df[:,end]\n",
        "X = df[:,1:end-1]\n",
        "Y_train = Y[1:val_start-1,]\n",
        "Y_val = Y[val_start:test_start-1,]\n",
        "Y_test = Y[test_start:end,]\n",
        "X_train = X[1:val_start-1, :]\n",
        "X_val = X[val_start:test_start-1, :]\n",
        "X_test = X[test_start:end, :]\n",
        "println(size(Y_train), \" \", size(Y_val), \" \", size(Y_test))\n",
        "println(size(X_train), \" \", size(X_val), \" \", size(X_test))"
      ],
      "outputs": [
        {
          "output_type": "stream",
          "name": "stdout",
          "text": [
            "(252,) (127,) (127,)\n",
            "(252, 13) (127, 13) (127, 13)\n"
          ]
        }
      ],
      "execution_count": 5,
      "metadata": {}
    },
    {
      "cell_type": "code",
      "source": [
        "# Tuning ρ for L1 Regression\n",
        "for ρ = [0.001, 0.01, 0.1, 1, 2]\n",
        "    beta_hat_l1 = reg_l1(X_train, Y_train, ρ)\n",
        "    val_error = norm(Y_val - X_val * beta_hat_l1, 2)\n",
        "    println(\"When ρ is \", ρ,\", val error is \", val_error)\n",
        "    println()\n",
        "end"
      ],
      "outputs": [
        {
          "output_type": "stream",
          "name": "stdout",
          "text": [
            "Academic license - for non-commercial use only\n",
            "When ρ is 0.001, val error is 94.41338707927206\n",
            "\n",
            "Academic license - for non-commercial use only\n",
            "When ρ is 0.01, val error is 93.3820765291332\n",
            "\n",
            "Academic license - for non-commercial use only\n",
            "When ρ is 0.1, val error is 86.77821787208819\n",
            "\n",
            "Academic license - for non-commercial use only\n",
            "When ρ is 1.0, val error is 89.75307324034216\n",
            "\n",
            "Academic license - for non-commercial use only\n",
            "When ρ is 2.0, val error is 91.33528392931979\n",
            "\n"
          ]
        }
      ],
      "execution_count": 6,
      "metadata": {}
    },
    {
      "cell_type": "code",
      "source": [
        "# Therefore optimal ρ is 0.1\n",
        "beta_hat_l1 = reg_l1([X_train;X_val], [Y_train;Y_val], 0.1)\n",
        "error1 = norm(Y_test - X_test * beta_hat_l1, 2)\n",
        "print(\"L1 Regression's score: \", error1)"
      ],
      "outputs": [
        {
          "output_type": "stream",
          "name": "stdout",
          "text": [
            "Academic license - for non-commercial use only\n",
            "L1 Regression's score: 89.46433726768113"
          ]
        }
      ],
      "execution_count": 7,
      "metadata": {}
    },
    {
      "cell_type": "code",
      "source": [
        "# Tuning ρ for L2 Regression\n",
        "for ρ = [0.001, 0.01, 0.1, 1, 2]\n",
        "    beta_hat_l2 = reg_l2(X_train, Y_train, ρ)\n",
        "    val_error = norm(Y_val - X_val * beta_hat_l2, 2)\n",
        "    println(\"When ρ is \", ρ,\", val error is \", val_error)\n",
        "    println()\n",
        "end"
      ],
      "outputs": [
        {
          "output_type": "stream",
          "name": "stdout",
          "text": [
            "Academic license - for non-commercial use only\n",
            "When ρ is 0.001, val error is 94.44685109513979\n",
            "\n",
            "Academic license - for non-commercial use only\n",
            "When ρ is 0.01, val error is 93.72958529755765\n",
            "\n",
            "Academic license - for non-commercial use only\n",
            "When ρ is 0.1, val error is 88.7744280677687\n",
            "\n",
            "Academic license - for non-commercial use only\n",
            "When ρ is 1.0, val error is 83.28692584141854\n",
            "\n",
            "Academic license - for non-commercial use only\n",
            "When ρ is 2.0, val error is 80.87886453711148\n",
            "\n"
          ]
        }
      ],
      "execution_count": 8,
      "metadata": {}
    },
    {
      "cell_type": "code",
      "source": [
        "# Therefore optimal ρ is 2.0\n",
        "beta_hat_l2 = reg_l2([X_train;X_val], [Y_train;Y_val], 2)\n",
        "error2 = norm(Y_test - X_test * beta_hat_l2)\n",
        "print(\"L2 Regression's score: \", error2)"
      ],
      "outputs": [
        {
          "output_type": "stream",
          "name": "stdout",
          "text": [
            "Academic license - for non-commercial use only\n",
            "L2 Regression's score: 83.59529329250292"
          ]
        }
      ],
      "execution_count": 9,
      "metadata": {}
    },
    {
      "cell_type": "code",
      "source": [
        "# Comparison with Linear Regression (ρ = 0)\n",
        "beta_hat = reg_l2([X_train;X_val], [Y_train;Y_val], 0)\n",
        "print(\"Normal Regression's score: \", norm(Y_test - X_test * beta_hat, 2))"
      ],
      "outputs": [
        {
          "output_type": "stream",
          "name": "stdout",
          "text": [
            "Academic license - for non-commercial use only\n",
            "Normal Regression's score: 91.31811641049084"
          ]
        }
      ],
      "execution_count": 10,
      "metadata": {}
    },
    {
      "cell_type": "code",
      "source": [
        "# Comparison with Baseline Model\n",
        "Y_train_mean = mean([Y_train;Y_val])\n",
        "print(\"Baseline Model's score: \", norm(Y_test - Y_train_mean))"
      ],
      "outputs": [
        {
          "output_type": "stream",
          "name": "stdout",
          "text": [
            "Baseline Model's score: 129.2265350398843"
          ]
        }
      ],
      "execution_count": 11,
      "metadata": {}
    },
    {
      "cell_type": "markdown",
      "source": [
        "### SUMMARY"
      ],
      "metadata": {}
    },
    {
      "cell_type": "code",
      "source": [
        "println(\"L1 Regression's score: \", error1)\n",
        "println(\"L2 Regression's score: \", error2)\n",
        "println(\"Normal Regression's score: \", norm(Y_test - X_test * beta_hat, 2))\n",
        "println(\"Baseline Model's score: \", norm(Y_test - Y_train_mean))"
      ],
      "outputs": [
        {
          "output_type": "stream",
          "name": "stdout",
          "text": [
            "L1 Regression's score: 89.46433726768113\n",
            "L2 Regression's score: 83.59529329250292\n",
            "Normal Regression's score: 91.31811641049084\n",
            "Baseline Model's score: 129.2265350398843\n"
          ]
        }
      ],
      "execution_count": 12,
      "metadata": {}
    },
    {
      "cell_type": "markdown",
      "source": [
        "## Communities and Crime Dataset"
      ],
      "metadata": {}
    },
    {
      "cell_type": "code",
      "source": [
        "# Importing the Data\n",
        "df = CSV.read(\"communities-and-crime.csv\", header=false)\n",
        "df = convert(Array,df)\n",
        "print(\"The dataset has dimension \", size(df))"
      ],
      "outputs": [
        {
          "output_type": "stream",
          "name": "stdout",
          "text": [
            "The dataset has dimension (122, 123)"
          ]
        }
      ],
      "execution_count": 13,
      "metadata": {}
    },
    {
      "cell_type": "code",
      "source": [
        "# Split into training, validation and test sets (50%/25%/25%)\n",
        "n = size(df)[1]\n",
        "val_start = round(Int, 0.5 * n) \n",
        "test_start = round(Int, 0.75 * n) \n",
        "Y = df[:,end]\n",
        "X = df[:,1:end-1]\n",
        "Y_train = Y[1:val_start-1,]\n",
        "Y_val = Y[val_start:test_start-1,]\n",
        "Y_test = Y[test_start:end,]\n",
        "X_train = X[1:val_start-1, :]\n",
        "X_val = X[val_start:test_start-1, :]\n",
        "X_test = X[test_start:end, :]\n",
        "println(size(Y_train), \" \", size(Y_val), \" \", size(Y_test))\n",
        "println(size(X_train), \" \", size(X_val), \" \", size(X_test))"
      ],
      "outputs": [
        {
          "output_type": "stream",
          "name": "stdout",
          "text": [
            "(60,) (31,) (31,)\n",
            "(60, 122) (31, 122) (31, 122)\n"
          ]
        }
      ],
      "execution_count": 14,
      "metadata": {}
    },
    {
      "cell_type": "code",
      "source": [
        "# Tuning ρ for L1 Regression\n",
        "for ρ = [0.001, 0.01, 0.1, 1, 2]\n",
        "    beta_hat_l1 = reg_l1(X_train, Y_train, ρ)\n",
        "    val_error = norm(Y_val - X_val * beta_hat_l1, 2)\n",
        "    println(\"When ρ is \", ρ,\", val error is \", val_error)\n",
        "    println()\n",
        "end"
      ],
      "outputs": [
        {
          "output_type": "stream",
          "name": "stdout",
          "text": [
            "Academic license - for non-commercial use only\n",
            "When ρ is 0.001, val error is 1.743908092948006\n",
            "\n",
            "Academic license - for non-commercial use only\n",
            "When ρ is 0.01, val error is 1.7426339975897596\n",
            "\n",
            "Academic license - for non-commercial use only\n",
            "When ρ is 0.1, val error is 0.88641339286839\n",
            "\n",
            "Academic license - for non-commercial use only\n",
            "When ρ is 1.0, val error is 0.6699333542201944\n",
            "\n",
            "Academic license - for non-commercial use only\n",
            "When ρ is 2.0, val error is 0.878701524516093\n",
            "\n"
          ]
        }
      ],
      "execution_count": 15,
      "metadata": {}
    },
    {
      "cell_type": "code",
      "source": [
        "# Therefore optimal ρ is 1.0\n",
        "beta_hat_l1 = reg_l1([X_train;X_val], [Y_train;Y_val], 1.0)\n",
        "error1 = norm(Y_test - X_test * beta_hat_l1, 2)\n",
        "print(\"L1 Regression's score: \", error1)"
      ],
      "outputs": [
        {
          "output_type": "stream",
          "name": "stdout",
          "text": [
            "Academic license - for non-commercial use only\n",
            "L1 Regression's score: 0.7834136806858949"
          ]
        }
      ],
      "execution_count": 16,
      "metadata": {}
    },
    {
      "cell_type": "code",
      "source": [
        "# Tuning ρ for L2 Regression\n",
        "for ρ = [0.001, 0.01, 0.1, 1, 2]\n",
        "    beta_hat_l2 = reg_l2(X_train, Y_train, ρ)\n",
        "    val_error = norm(Y_val - X_val * beta_hat_l2, 2)\n",
        "    println(\"When ρ is \", ρ,\", val error is \", val_error)\n",
        "    println()\n",
        "end"
      ],
      "outputs": [
        {
          "output_type": "stream",
          "name": "stdout",
          "text": [
            "Academic license - for non-commercial use only\n",
            "When ρ is 0.001, val error is 1.712282147013243\n",
            "\n",
            "Academic license - for non-commercial use only\n",
            "When ρ is 0.01, val error is 1.7122821470096032\n",
            "\n",
            "Academic license - for non-commercial use only\n",
            "When ρ is 0.1, val error is 1.7122821123814254\n",
            "\n",
            "Academic license - for non-commercial use only\n",
            "When ρ is 1.0, val error is 0.8418771745970673\n",
            "\n",
            "Academic license - for non-commercial use only\n",
            "When ρ is 2.0, val error is 0.7060072335570459\n",
            "\n"
          ]
        }
      ],
      "execution_count": 23,
      "metadata": {}
    },
    {
      "cell_type": "code",
      "source": [
        "# Therefore optimal ρ is 2.0\n",
        "beta_hat_l2 = reg_l2([X_train;X_val], [Y_train;Y_val], 2.0)\n",
        "error2 = norm(Y_test - X_test * beta_hat_l2, 2)\n",
        "print(\"L2 Regression's score: \", error2)"
      ],
      "outputs": [
        {
          "output_type": "stream",
          "name": "stdout",
          "text": [
            "Academic license - for non-commercial use only\n",
            "L2 Regression's score: 0.7508218451811334"
          ]
        }
      ],
      "execution_count": 18,
      "metadata": {}
    },
    {
      "cell_type": "code",
      "source": [
        "# Comparison with Linear Regression (ρ = 0)\n",
        "beta_hat = reg_l2([X_train;X_val], [Y_train;Y_val], 0)\n",
        "print(\"Normal Regression's score: \", norm(Y_test - X_test * beta_hat, 2))"
      ],
      "outputs": [
        {
          "output_type": "stream",
          "name": "stdout",
          "text": [
            "Academic license - for non-commercial use only\n",
            "Normal Regression's score: 2.526386031751493"
          ]
        }
      ],
      "execution_count": 19,
      "metadata": {}
    },
    {
      "cell_type": "code",
      "source": [
        "# Comparison with Baseline Model\n",
        "Y_train_mean = mean([Y_train;Y_val])\n",
        "print(\"Baseline Model's score: \", norm(Y_test - Y_train_mean))"
      ],
      "outputs": [
        {
          "output_type": "stream",
          "name": "stdout",
          "text": [
            "Baseline Model's score: 1.4589372704759014"
          ]
        }
      ],
      "execution_count": 20,
      "metadata": {}
    },
    {
      "cell_type": "markdown",
      "source": [
        "### SUMMARY\n"
      ],
      "metadata": {}
    },
    {
      "cell_type": "code",
      "source": [
        "println(\"L1 Regression's score: \", error1)\n",
        "println(\"L2 Regression's score: \", error2)\n",
        "println(\"Normal Regression's score: \", norm(Y_test - X_test * beta_hat, 2))\n",
        "println(\"Baseline Model's score: \", norm(Y_test - Y_train_mean))"
      ],
      "outputs": [
        {
          "output_type": "stream",
          "name": "stdout",
          "text": [
            "L1 Regression's score: 0.7834136806858949\n",
            "L2 Regression's score: 0.7508218451811334\n",
            "Normal Regression's score: 2.526386031751493\n",
            "Baseline Model's score: 1.4589372704759014\n"
          ]
        }
      ],
      "execution_count": 21,
      "metadata": {}
    }
  ],
  "metadata": {
    "kernelspec": {
      "name": "julia-0.6",
      "language": "julia",
      "display_name": "Julia 0.6.4"
    },
    "language_info": {
      "file_extension": ".jl",
      "name": "julia",
      "mimetype": "application/julia",
      "version": "0.6.4"
    },
    "kernel_info": {
      "name": "julia-0.6"
    },
    "nteract": {
      "version": "0.12.2"
    }
  },
  "nbformat": 4,
  "nbformat_minor": 2
}
